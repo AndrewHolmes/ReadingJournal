{
 "cells": [
  {
   "cell_type": "markdown",
   "metadata": {},
   "source": [
    "# Day 8 Reading Journal\n",
    "\n",
    "This journal includes several required exercises, but it is meant to encourage active reading more generally.  You should use the journal to take detailed notes, catalog questions, and explore the content from Think Python deeply.\n",
    "\n",
    "Reading: Think Python Chapter 12\n",
    "\n",
    "**Due: Thursday, September 29 at 12 noon**\n"
   ]
  },
  {
   "cell_type": "markdown",
   "metadata": {},
   "source": [
    "## [Chapter 12](http://www.greenteapress.com/thinkpython/html/thinkpython013.html)"
   ]
  },
  {
   "cell_type": "markdown",
   "metadata": {},
   "source": [
    "### Exercise 2 \n",
    "Exercise 12.2. In this example, ties are broken by comparing words, so words with the same length appear in reverse alphabetical order. For other applications you might want to break ties at ran- dom. Modify this example so that words with the same length appear in random order. Hint: see the random function in the random module."
   ]
  },
  {
   "cell_type": "code",
   "execution_count": 28,
   "metadata": {
    "collapsed": false
   },
   "outputs": [
    {
     "data": {
      "text/plain": [
       "['wonderful', 'tiggers', 'thing', 'sucks', 'about', 'The']"
      ]
     },
     "execution_count": 28,
     "metadata": {},
     "output_type": "execute_result"
    }
   ],
   "source": [
    "#Original\n",
    "\n",
    "def sort_by_length(words):\n",
    "    t = []\n",
    "    for word in words:\n",
    "       t.append((len(word), word))\n",
    "    t.sort(reverse=True)\n",
    "    res = []\n",
    "    for length, word in t:\n",
    "        res.append(word)\n",
    "    return res\n",
    "\n",
    "sort_by_length([\"The\", \"wonderful\", \"thing\", \"about\", \"tiggers\", 'sucks'])"
   ]
  },
  {
   "cell_type": "code",
   "execution_count": 1,
   "metadata": {
    "collapsed": false
   },
   "outputs": [],
   "source": [
    "#Modified\n",
    "\n",
    "def sort_by_length(words):\n",
    "    import random\n",
    "    t = []\n",
    "    for word in words:\n",
    "       t.append((len(word), random.random(), word))\n",
    "    t.sort(reverse=True)\n",
    "    print t\n",
    "    res = []\n",
    "    for length, random, word in t:\n",
    "        res.append(word)\n",
    "    return res"
   ]
  },
  {
   "cell_type": "code",
   "execution_count": 2,
   "metadata": {
    "collapsed": false
   },
   "outputs": [
    {
     "name": "stdout",
     "output_type": "stream",
     "text": [
      "[(9, 0.942657850614801, 'wonderful'), (5, 0.878175193377513, 'thing'), (5, 0.5319146767557829, 'smile'), (5, 0.4181067333580385, 'about'), (5, 0.30308327496071874, 'their'), (5, 0.2670461304171945, 'ducks'), (3, 0.15929233745577187, 'The'), (2, 0.6776132832823072, 'is')]\n"
     ]
    },
    {
     "data": {
      "text/plain": [
       "['wonderful', 'thing', 'smile', 'about', 'their', 'ducks', 'The', 'is']"
      ]
     },
     "execution_count": 2,
     "metadata": {},
     "output_type": "execute_result"
    }
   ],
   "source": [
    "sort_by_length([\"The\", \"wonderful\", \"thing\", \"about\", \"ducks\", \"is\", \"their\", \"smile\"])"
   ]
  },
  {
   "cell_type": "code",
   "execution_count": 23,
   "metadata": {
    "collapsed": false
   },
   "outputs": [
    {
     "data": {
      "text/plain": [
       "['wonderful', 'smile', 'about', 'ducks', 'their', 'thing', 'The', 'is']"
      ]
     },
     "execution_count": 23,
     "metadata": {},
     "output_type": "execute_result"
    }
   ],
   "source": [
    "sort_by_length([\"The\", \"wonderful\", \"thing\", \"about\", \"ducks\", \"is\", \"their\", \"smile\"])"
   ]
  },
  {
   "cell_type": "code",
   "execution_count": 26,
   "metadata": {
    "collapsed": false
   },
   "outputs": [
    {
     "data": {
      "text/plain": [
       "['wonderful', 'their', 'ducks', 'thing', 'smile', 'about', 'The', 'is']"
      ]
     },
     "execution_count": 26,
     "metadata": {},
     "output_type": "execute_result"
    }
   ],
   "source": [
    "sort_by_length([\"The\", \"wonderful\", \"thing\", \"about\", \"ducks\", \"is\", \"their\", \"smile\"])"
   ]
  },
  {
   "cell_type": "markdown",
   "metadata": {},
   "source": [
    "### Exercise 4\n",
    "\n",
    "1. Write a program that reads a word list from a file (see Section 9.1) and prints all the sets of\n",
    "words that are anagrams.\n",
    "Here is an example of what the output might look like:\n",
    "\n",
    "     ['deltas', 'desalt', 'lasted', 'salted', 'slated', 'staled']\n",
    "     ['retainers', 'ternaries']\n",
    "     ['generating', 'greatening']\n",
    "     ['resmelts', 'smelters', 'termless']\n",
    "\n",
    "Hint: you might want to build a dictionary that maps from a set of letters to a list of words that can be spelled with those letters. The question is, how can you represent the set of letters in a way that can be used as a key?"
   ]
  },
  {
   "cell_type": "code",
   "execution_count": 77,
   "metadata": {
    "collapsed": false,
    "scrolled": true
   },
   "outputs": [
    {
     "data": {
      "text/plain": [
       "[['search', 'arches'],\n",
       " ['below', 'bowel', 'elbow'],\n",
       " ['slain', 'snail', 'nails'],\n",
       " ['retails', 'realist', 'saltier']]"
      ]
     },
     "execution_count": 77,
     "metadata": {},
     "output_type": "execute_result"
    }
   ],
   "source": [
    "def find_anagrams_V1(file):\n",
    "    fin = open(file)\n",
    "    words = []\n",
    "    ordered_words = []\n",
    "    d = {}\n",
    "    for line in fin:\n",
    "        words.append(line.strip())\n",
    "    ordered_words = words[:]\n",
    "    for j in range(len(ordered_words)):\n",
    "        new_word = ''.join(sorted(ordered_words[j]))\n",
    "        ordered_words[j] = new_word\n",
    "        j = j + 1\n",
    "    for i in range(len(ordered_words)):\n",
    "        key = ordered_words[i]\n",
    "        if key in d:\n",
    "            d[key].append(words[i])\n",
    "        else:\n",
    "            d[key] = [words[i]]\n",
    "    result = []\n",
    "    for key in d.keys():\n",
    "        result.append(d[key]) \n",
    "    return result\n",
    "    \n",
    "            \n",
    "find_anagrams(\"anagrams.txt\")"
   ]
  },
  {
   "cell_type": "markdown",
   "metadata": {},
   "source": [
    "2\\. Modify the previous program so that it prints the largest set of anagrams first, followed by the second largest set, and so on."
   ]
  },
  {
   "cell_type": "code",
   "execution_count": 76,
   "metadata": {
    "collapsed": false
   },
   "outputs": [
    {
     "data": {
      "text/plain": [
       "[['search', 'arches'],\n",
       " ['below', 'bowel', 'elbow'],\n",
       " ['slain', 'snail', 'nails'],\n",
       " ['retails', 'realist', 'saltier']]"
      ]
     },
     "execution_count": 76,
     "metadata": {},
     "output_type": "execute_result"
    }
   ],
   "source": [
    "def find_anagrams_V2(file):\n",
    "    fin = open(file)\n",
    "    words = []\n",
    "    ordered_words = []\n",
    "    d = {}\n",
    "    for line in fin:\n",
    "        words.append(line.strip())\n",
    "    ordered_words = words[:]\n",
    "    for j in range(len(ordered_words)):\n",
    "        new_word = ''.join(sorted(ordered_words[j]))\n",
    "        ordered_words[j] = new_word\n",
    "        j = j + 1\n",
    "    for i in range(len(ordered_words)):\n",
    "        key = ordered_words[i]\n",
    "        if key in d:\n",
    "            d[key].append(words[i])\n",
    "        else:\n",
    "            d[key] = [words[i]]\n",
    "    result = []\n",
    "    for key in d.keys():\n",
    "        result.append(d[key])\n",
    "    t = []\n",
    "    for word in result:\n",
    "       t.append((len(word), word))\n",
    "    t.sort(reverse=True)\n",
    "    res = []\n",
    "    for length, word in t:\n",
    "        res.append(word)\n",
    "    return res\n",
    "    \n",
    "            \n",
    "find_anagrams(\"anagrams.txt\")"
   ]
  },
  {
   "cell_type": "markdown",
   "metadata": {},
   "source": [
    "3\\. In Scrabble a “bingo” is when you play all seven tiles in your rack, along with a letter on the board, to form an eight-letter word. What set of 8 letters forms the most possible bingos? Hint: there are seven."
   ]
  },
  {
   "cell_type": "code",
   "execution_count": 94,
   "metadata": {
    "collapsed": false
   },
   "outputs": [
    {
     "data": {
      "text/plain": [
       "[['apers',\n",
       "  'asper',\n",
       "  'pares',\n",
       "  'parse',\n",
       "  'pears',\n",
       "  'prase',\n",
       "  'presa',\n",
       "  'rapes',\n",
       "  'reaps',\n",
       "  'spare',\n",
       "  'spear'],\n",
       " ['alerts',\n",
       "  'alters',\n",
       "  'artels',\n",
       "  'estral',\n",
       "  'laster',\n",
       "  'ratels',\n",
       "  'salter',\n",
       "  'slater',\n",
       "  'staler',\n",
       "  'stelar',\n",
       "  'talers'],\n",
       " ['least',\n",
       "  'setal',\n",
       "  'slate',\n",
       "  'stale',\n",
       "  'steal',\n",
       "  'stela',\n",
       "  'taels',\n",
       "  'tales',\n",
       "  'teals',\n",
       "  'tesla'],\n",
       " ['estrin',\n",
       "  'inerts',\n",
       "  'insert',\n",
       "  'inters',\n",
       "  'niters',\n",
       "  'nitres',\n",
       "  'sinter',\n",
       "  'triens',\n",
       "  'trines'],\n",
       " ['capers',\n",
       "  'crapes',\n",
       "  'escarp',\n",
       "  'pacers',\n",
       "  'parsec',\n",
       "  'recaps',\n",
       "  'scrape',\n",
       "  'secpar',\n",
       "  'spacer'],\n",
       " ['peris', 'piers', 'pries', 'prise', 'ripes', 'speir', 'spier', 'spire'],\n",
       " ['palest',\n",
       "  'palets',\n",
       "  'pastel',\n",
       "  'petals',\n",
       "  'plates',\n",
       "  'pleats',\n",
       "  'septal',\n",
       "  'staple'],\n",
       " ['lapse', 'leaps', 'pales', 'peals', 'pleas', 'salep', 'sepal', 'spale']]"
      ]
     },
     "execution_count": 94,
     "metadata": {},
     "output_type": "execute_result"
    }
   ],
   "source": [
    "def scrabble_bingo():\n",
    "    bingo = find_anagrams_V2(\"words.txt\")\n",
    "    i = 0\n",
    "    words = []\n",
    "    while i <= 7:\n",
    "        words.append(bingo[i])\n",
    "        i += 1\n",
    "    return words\n",
    "    \n",
    "scrabble_bingo()"
   ]
  },
  {
   "cell_type": "markdown",
   "metadata": {},
   "source": [
    "I don't completely understand what this question is asking, but my understanding is that bingo has a higher score when there are more anagrams to use, so I've printed the top seven sets of anagrams from words.txt (meaning these are the sets of words that have the most anagrams)."
   ]
  },
  {
   "cell_type": "markdown",
   "metadata": {},
   "source": [
    "# Quick poll\n",
    "About how long did you spend working on this Reading Journal?"
   ]
  },
  {
   "cell_type": "code",
   "execution_count": null,
   "metadata": {
    "collapsed": true
   },
   "outputs": [],
   "source": [
    "3"
   ]
  },
  {
   "cell_type": "markdown",
   "metadata": {},
   "source": [
    " "
   ]
  }
 ],
 "metadata": {
  "anaconda-cloud": {},
  "kernelspec": {
   "display_name": "Python 2",
   "language": "python",
   "name": "python2"
  },
  "language_info": {
   "codemirror_mode": {
    "name": "ipython",
    "version": 2
   },
   "file_extension": ".py",
   "mimetype": "text/x-python",
   "name": "python",
   "nbconvert_exporter": "python",
   "pygments_lexer": "ipython2",
   "version": "2.7.6"
  }
 },
 "nbformat": 4,
 "nbformat_minor": 0
}

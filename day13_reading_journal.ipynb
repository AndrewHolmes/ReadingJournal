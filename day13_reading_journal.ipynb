{
 "cells": [
  {
   "cell_type": "markdown",
   "metadata": {},
   "source": [
    "# Day 13 Reading Journal\n",
    "\n",
    "This journal includes review questions relating to Think Python Chapter 16.\n",
    "\n",
    "**Due: Thursday, October 20 at 12 noon**"
   ]
  },
  {
   "cell_type": "markdown",
   "metadata": {},
   "source": [
    "## Exercise 16-1.\n",
    "Write a function called `print_time` that takes a Time object and prints it in the form `hour:minute:second`.\n",
    "Hint: the format sequence `'%.2d'` prints an integer using at least two digits, including a leading zero if necessary."
   ]
  },
  {
   "cell_type": "code",
<<<<<<< HEAD
   "execution_count": 2,
   "metadata": {
    "collapsed": false
   },
   "outputs": [
    {
     "data": {
      "text/plain": [
       "'12:19:03'"
      ]
     },
     "execution_count": 2,
     "metadata": {},
     "output_type": "execute_result"
    }
   ],
=======
   "execution_count": 8,
   "metadata": {
    "collapsed": false
   },
   "outputs": [],
>>>>>>> 19b0a926debc58bda12c4f51d6b1d922ac6c1f7c
   "source": [
    "class Time(object):\n",
    "    \"\"\"Represents the time of day.\n",
    "    attributes: hour, minute, second\n",
    "    \"\"\"\n",
    "\n",
<<<<<<< HEAD
    "def print_time(time):\n",
    "    time = \"%02d\"%time.hour + \":\" + \"%02d\"%time.minute + \":\" + \"%02d\"%time.second\n",
    "    return time\n",
    "\n",
    "time = Time()\n",
    "time.hour = 12\n",
    "time.minute = 19\n",
    "time.second = 3\n",
    "\n",
    "print_time(time)"
=======
    "# add your definition of print_time\n",
    "\n",
    "# add some code to demonstrate that print_time works"
>>>>>>> 19b0a926debc58bda12c4f51d6b1d922ac6c1f7c
   ]
  },
  {
   "cell_type": "markdown",
   "metadata": {},
<<<<<<< HEAD
=======
   "source": []
  },
  {
   "cell_type": "markdown",
   "metadata": {},
>>>>>>> 19b0a926debc58bda12c4f51d6b1d922ac6c1f7c
   "source": [
    "## Exercise 16-2\n",
    "Write a boolean function called `is_after` that takes two Time objects, `t1` and `t2`, and returns `True` if `t1` follows `t2` chronologically and `False` otherwise.\n",
    "\n",
    "Challenge: don’t use an `if` statement."
   ]
  },
  {
   "cell_type": "code",
<<<<<<< HEAD
   "execution_count": 12,
   "metadata": {
    "collapsed": false
   },
   "outputs": [
    {
     "name": "stdout",
     "output_type": "stream",
     "text": [
      "True\n",
      "False\n"
     ]
    }
   ],
   "source": [
    "class Time(object):\n",
    "    \"\"\"Represents the time of day.\n",
    "    attributes: hour, minute, second\n",
    "    \"\"\"\n",
    "\n",
    "def is_after(time1, time2):\n",
    "    if time1.hour > time2.hour:\n",
    "        return True\n",
    "    if time1.hour == time2.hour:\n",
    "        if time1.minute > time2.minute:\n",
    "            return True\n",
    "        if time1.minute == time2.minute:\n",
    "            if time1.second > time2.second:\n",
    "                return True\n",
    "    return False\n",
    "\n",
    "time1 = Time()\n",
    "time1.hour = 5\n",
    "time1.minute = 19\n",
    "time1.second = 3\n",
    "\n",
    "time2 = Time()\n",
    "time2.hour = 3\n",
    "time2.minute = 19\n",
    "time2.second = 3\n",
    "\n",
    "print is_after(time1, time2)\n",
    "\n",
    "time3 = Time()\n",
    "time3.hour = 5\n",
    "time3.minute = 19\n",
    "time3.second = 3\n",
    "\n",
    "time4 = Time()\n",
    "time4.hour = 5\n",
    "time4.minute = 19\n",
    "time4.second = 7\n",
    "\n",
    "print is_after(time3, time4)"
=======
   "execution_count": 4,
   "metadata": {
    "collapsed": false
   },
   "outputs": [],
   "source": [
    "# replace this line with your code"
>>>>>>> 19b0a926debc58bda12c4f51d6b1d922ac6c1f7c
   ]
  },
  {
   "cell_type": "markdown",
   "metadata": {},
   "source": [
    "## Modifiers\n",
    "Complete the code below, such that it demonstrates:\n",
    "\n",
    "* `increment` behaving as specified\n",
    "* `increment` with incorrect behavior"
   ]
  },
  {
   "cell_type": "code",
<<<<<<< HEAD
   "execution_count": 23,
   "metadata": {
    "collapsed": false
   },
   "outputs": [
    {
     "name": "stdout",
     "output_type": "stream",
     "text": [
      "05:32:50\n",
      "11:46:955\n"
     ]
    }
   ],
=======
   "execution_count": 7,
   "metadata": {
    "collapsed": true
   },
   "outputs": [],
>>>>>>> 19b0a926debc58bda12c4f51d6b1d922ac6c1f7c
   "source": [
    "class Time(object):\n",
    "    \"\"\"Represents the time of day.\n",
    "    attributes: hour, minute, second\n",
    "    \"\"\"\n",
    "\n",
<<<<<<< HEAD
    "def increment(time, seconds):\n",
    "    time.second += seconds\n",
    "    if time.second >= 60:\n",
    "        time.second -= 60\n",
    "        time.minute += 1\n",
    "    if time.minute >= 60:\n",
    "        time.minute -= 60\n",
    "        time.hour += 1\n",
    "\n",
    "t1 = Time()\n",
    "t1.hour = 5\n",
    "t1.minute = 32\n",
    "t1.second = 5\n",
    "\n",
    "increment(t1, 45)\n",
    "print \"%02d\"%t1.hour + \":\" + \"%02d\"%t1.minute + \":\" + \"%02d\"%t1.second\n",
    "\n",
    "t2 = Time()\n",
    "t2.hour = 11\n",
    "t2.minute = 45\n",
    "t2.second = 15\n",
    "\n",
    "increment(t2, 1000)\n",
    "print \"%02d\"%t2.hour + \":\" + \"%02d\"%t2.minute + \":\" + \"%02d\"%t2.second"
=======
    "    def increment(time, seconds):\n",
    "        time.second += seconds\n",
    "        if time.second >= 60:\n",
    "            time.second -= 60\n",
    "            time.minute += 1\n",
    "        if time.minute >= 60:\n",
    "            time.minute -= 60\n",
    "            time.hour += 1\n",
    "\n",
    "t1 = None # modify this line to create a new instance of Time\n",
    "\n",
    "# modify this line to increment t1 by 45 seconds\n",
    "# modify this line to print the attributes of t1, to show that it has been correctly incremented\n",
    "\n",
    "t2 = None # modify this line to create another instance of Time\n",
    "# modify this line to increment t2\n",
    "# modify this line to demonstrate that the previous call to increment behaved incorrectly"
>>>>>>> 19b0a926debc58bda12c4f51d6b1d922ac6c1f7c
   ]
  },
  {
   "cell_type": "markdown",
   "metadata": {},
   "source": [
    "## Exercise 16-3 (adapted)\n",
<<<<<<< HEAD
    "Fix `increment`, and demonstrate that it has the correct behavior in the case that was a problem above.\n",
=======
    "Fix `increment`, and demonstrate that has the correct behavior in the case that was a problem above.\n",
>>>>>>> 19b0a926debc58bda12c4f51d6b1d922ac6c1f7c
    "\n",
    "Unlike the version of this question in Think Python, you are allowed (but not required) to use loops."
   ]
  },
  {
   "cell_type": "code",
<<<<<<< HEAD
   "execution_count": 24,
   "metadata": {
    "collapsed": false
   },
   "outputs": [
    {
     "name": "stdout",
     "output_type": "stream",
     "text": [
      "12:01:55\n"
     ]
    }
   ],
=======
   "execution_count": 6,
   "metadata": {
    "collapsed": false
   },
   "outputs": [],
>>>>>>> 19b0a926debc58bda12c4f51d6b1d922ac6c1f7c
   "source": [
    "class Time(object):\n",
    "    \"\"\"Represents the time of day.\n",
    "    attributes: hour, minute, second\n",
    "    \"\"\"\n",
    "\n",
<<<<<<< HEAD
    "def increment(time, seconds):\n",
    "    time.second += seconds\n",
    "    while time.second >= 60:\n",
    "        time.second -= 60\n",
    "        time.minute += 1\n",
    "    while time.minute >= 60:\n",
    "        time.minute -= 60\n",
    "        time.hour += 1\n",
    "\n",
    "t2 = Time()\n",
    "t2.hour = 11\n",
    "t2.minute = 45\n",
    "t2.second = 15\n",
    "\n",
    "increment(t2, 1000)\n",
    "print \"%02d\"%t2.hour + \":\" + \"%02d\"%t2.minute + \":\" + \"%02d\"%t2.second"
=======
    "    def increment(time, seconds):\n",
    "        time.second += seconds\n",
    "        if time.second >= 60:\n",
    "            time.second -= 60\n",
    "            time.minute += 1\n",
    "        if time.minute >= 60:\n",
    "            time.minute -= 60\n",
    "            time.hour += 1\n",
    "\n",
    "t2 = None # modify this line to create another instance of Time\n",
    "# modify this line to increment t2 by the same value as in the previous question\n",
    "# modify this line to demonstrate that the previous call to increment behaved incorrectly"
>>>>>>> 19b0a926debc58bda12c4f51d6b1d922ac6c1f7c
   ]
  },
  {
   "cell_type": "markdown",
   "metadata": {},
   "source": [
    "## PyGame Tutorial\n",
    "Add a link to the PyGame tutorial that you studied.\n",
    "\n",
    "Write a sentence (or more) that summarize the main points of the tutorial."
   ]
  },
  {
   "cell_type": "markdown",
   "metadata": {},
   "source": [
<<<<<<< HEAD
    "http://richard.cgpublisher.com/product/pub.84/prod.11\n",
    "\n",
    "I found this to be a quick, easy, and straightforward introduction to pygame and working with it. It provides a great framework from which to start and a project and demonstrates many of the basics that a beginner would want to start working with right away, including, animation, uploading images, collisions, timing, counting, framerate, and backgrounds."
=======
    "[Replace this text with a link to the PyGame tutorial.]\n",
    "\n",
    "[Replace this text with your summary of the main points of the tutorial.]"
>>>>>>> 19b0a926debc58bda12c4f51d6b1d922ac6c1f7c
   ]
  },
  {
   "cell_type": "markdown",
   "metadata": {},
   "source": [
    "# Quick poll\n",
    "About how long did you spend working on this Reading Journal?"
   ]
  },
  {
   "cell_type": "code",
<<<<<<< HEAD
   "execution_count": 25,
   "metadata": {
    "collapsed": false
   },
   "outputs": [
    {
     "name": "stdout",
     "output_type": "stream",
     "text": [
      "1.5 hours\n"
     ]
    }
   ],
   "source": [
    "print \"1.5 hours\""
   ]
=======
   "execution_count": null,
   "metadata": {
    "collapsed": true
   },
   "outputs": [],
   "source": []
>>>>>>> 19b0a926debc58bda12c4f51d6b1d922ac6c1f7c
  },
  {
   "cell_type": "markdown",
   "metadata": {},
   "source": [
    " "
   ]
  }
 ],
 "metadata": {
  "anaconda-cloud": {},
  "kernelspec": {
<<<<<<< HEAD
   "display_name": "Python 2",
   "language": "python",
   "name": "python2"
=======
   "display_name": "Python [py27]",
   "language": "python",
   "name": "Python [py27]"
>>>>>>> 19b0a926debc58bda12c4f51d6b1d922ac6c1f7c
  },
  "language_info": {
   "codemirror_mode": {
    "name": "ipython",
    "version": 2
   },
   "file_extension": ".py",
   "mimetype": "text/x-python",
   "name": "python",
   "nbconvert_exporter": "python",
   "pygments_lexer": "ipython2",
<<<<<<< HEAD
   "version": "2.7.6"
=======
   "version": "2.7.12"
>>>>>>> 19b0a926debc58bda12c4f51d6b1d922ac6c1f7c
  }
 },
 "nbformat": 4,
 "nbformat_minor": 0
}

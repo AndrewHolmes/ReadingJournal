{
 "cells": [
  {
   "cell_type": "markdown",
   "metadata": {},
   "source": [
<<<<<<< HEAD
    "# Day 12 Reading Journal\n",
=======
    "# Day 9 Reading Journal\n",
>>>>>>> 19b0a926debc58bda12c4f51d6b1d922ac6c1f7c
    "\n",
    "This journal includes review questions relating to Think Python Chapter 14.9 and Chapter 15.\n",
    "\n",
    "**Due: Monday, October 17 at 12 noon**\n"
   ]
  },
  {
   "cell_type": "markdown",
   "metadata": {},
   "source": [
    "## Exercise 14-5"
   ]
  },
  {
   "cell_type": "markdown",
   "metadata": {
    "collapsed": true
   },
   "source": [
    "Type this example into a file named `wc.py` and run it as a script. Then run the Python interpreter and `import wc`. What is the value of `__name__` when the module is being imported?\n",
    "\n",
    "**Note**: if you get a number bigger than 10, you are probably running the code in Jupyter inside of typing it into a separate file."
   ]
  },
  {
   "cell_type": "code",
<<<<<<< HEAD
   "execution_count": 1,
   "metadata": {
    "collapsed": false
   },
   "outputs": [
    {
     "ename": "IOError",
     "evalue": "[Errno 2] No such file or directory: 'wc.py'",
     "output_type": "error",
     "traceback": [
      "\u001b[0;31m---------------------------------------------------------------------------\u001b[0m",
      "\u001b[0;31mIOError\u001b[0m                                   Traceback (most recent call last)",
      "\u001b[0;32m<ipython-input-1-e9d600597b78>\u001b[0m in \u001b[0;36m<module>\u001b[0;34m()\u001b[0m\n\u001b[1;32m      6\u001b[0m \u001b[0;34m\u001b[0m\u001b[0m\n\u001b[1;32m      7\u001b[0m \u001b[0;32mif\u001b[0m \u001b[0m__name__\u001b[0m \u001b[0;34m==\u001b[0m \u001b[0;34m'__main__'\u001b[0m\u001b[0;34m:\u001b[0m\u001b[0;34m\u001b[0m\u001b[0m\n\u001b[0;32m----> 8\u001b[0;31m     \u001b[0;32mprint\u001b[0m \u001b[0mlinecount\u001b[0m\u001b[0;34m(\u001b[0m\u001b[0;34m'wc.py'\u001b[0m\u001b[0;34m)\u001b[0m\u001b[0;34m\u001b[0m\u001b[0m\n\u001b[0m",
      "\u001b[0;32m<ipython-input-1-e9d600597b78>\u001b[0m in \u001b[0;36mlinecount\u001b[0;34m(filename)\u001b[0m\n\u001b[1;32m      1\u001b[0m \u001b[0;32mdef\u001b[0m \u001b[0mlinecount\u001b[0m\u001b[0;34m(\u001b[0m\u001b[0mfilename\u001b[0m\u001b[0;34m)\u001b[0m\u001b[0;34m:\u001b[0m\u001b[0;34m\u001b[0m\u001b[0m\n\u001b[1;32m      2\u001b[0m     \u001b[0mcount\u001b[0m \u001b[0;34m=\u001b[0m \u001b[0;36m0\u001b[0m\u001b[0;34m\u001b[0m\u001b[0m\n\u001b[0;32m----> 3\u001b[0;31m     \u001b[0;32mfor\u001b[0m \u001b[0mline\u001b[0m \u001b[0;32min\u001b[0m \u001b[0mopen\u001b[0m\u001b[0;34m(\u001b[0m\u001b[0mfilename\u001b[0m\u001b[0;34m)\u001b[0m\u001b[0;34m:\u001b[0m\u001b[0;34m\u001b[0m\u001b[0m\n\u001b[0m\u001b[1;32m      4\u001b[0m         \u001b[0mcount\u001b[0m \u001b[0;34m+=\u001b[0m \u001b[0;36m1\u001b[0m\u001b[0;34m\u001b[0m\u001b[0m\n\u001b[1;32m      5\u001b[0m     \u001b[0;32mreturn\u001b[0m \u001b[0mcount\u001b[0m\u001b[0;34m\u001b[0m\u001b[0m\n",
      "\u001b[0;31mIOError\u001b[0m: [Errno 2] No such file or directory: 'wc.py'"
     ]
    }
   ],
=======
   "execution_count": null,
   "metadata": {
    "collapsed": false
   },
   "outputs": [],
>>>>>>> 19b0a926debc58bda12c4f51d6b1d922ac6c1f7c
   "source": [
    "def linecount(filename):\n",
    "    count = 0\n",
    "    for line in open(filename):\n",
    "        count += 1\n",
    "    return count\n",
    "\n",
    "if __name__ == '__main__':\n",
    "    print linecount('wc.py')"
   ]
  },
  {
   "cell_type": "markdown",
   "metadata": {},
<<<<<<< HEAD
   "source": [
    "8"
   ]
=======
   "source": []
>>>>>>> 19b0a926debc58bda12c4f51d6b1d922ac6c1f7c
  },
  {
   "cell_type": "markdown",
   "metadata": {},
   "source": [
    "## Exercise 15-1.\n",
    "Write a function called distance_between_points that takes two Points as arguments and returns the distance between them."
   ]
  },
  {
   "cell_type": "code",
<<<<<<< HEAD
   "execution_count": 5,
   "metadata": {
    "collapsed": false
   },
   "outputs": [
    {
     "name": "stdout",
     "output_type": "stream",
     "text": [
      "14.1421356237\n",
      "22.360679775\n",
      "22.360679775\n"
     ]
    }
   ],
=======
   "execution_count": null,
   "metadata": {
    "collapsed": false
   },
   "outputs": [],
>>>>>>> 19b0a926debc58bda12c4f51d6b1d922ac6c1f7c
   "source": [
    "class Point(object):\n",
    "    \"\"\"Represents a point in 2-D space.\"\"\"\n",
    "\n",
    "def distance_between_points(p1, p2):\n",
<<<<<<< HEAD
    "    import math\n",
    "    distance = math.sqrt((p1.x-p2.x)**2 + (p1.y-p2.y)**2)\n",
    "    return distance\n",
=======
    "    pass  # replace this line by your code\n",
>>>>>>> 19b0a926debc58bda12c4f51d6b1d922ac6c1f7c
    "\n",
    "origin = Point()\n",
    "origin.x = 0.0\n",
    "origin.y = 0.0\n",
    "\n",
    "top_right = Point()\n",
    "top_right.x = 10.0\n",
    "top_right.y = 10.0\n",
    "\n",
    "print distance_between_points(origin, top_right)\n",
    "\n",
    "bottom_righter = Point()\n",
    "bottom_righter.x = 20.0\n",
    "bottom_righter.y = -10.0\n",
    "\n",
    "print distance_between_points(top_right, bottom_righter)\n",
    "print distance_between_points(bottom_righter, top_right)"
   ]
  },
  {
   "cell_type": "markdown",
   "metadata": {},
   "source": [
    "## Mutation and Copying\n",
    "Write a function called `slide_point_right` that takes a point and a number.\n",
    "It should modify (mutate) the existing by incrementing its `x` attribute by the number."
   ]
  },
  {
   "cell_type": "code",
<<<<<<< HEAD
   "execution_count": 8,
   "metadata": {
    "collapsed": false
   },
   "outputs": [
    {
     "name": "stdout",
     "output_type": "stream",
     "text": [
      "11.0\n"
     ]
    }
   ],
   "source": [
    "def slide_point_right(pt, dx):\n",
    "    pt.x = pt.x + dx\n",
    "    return pt.x\n",
=======
   "execution_count": null,
   "metadata": {
    "collapsed": true
   },
   "outputs": [],
   "source": [
    "def slide_point_right(pt, dx):\n",
    "    pass  # replace this line by your code\n",
>>>>>>> 19b0a926debc58bda12c4f51d6b1d922ac6c1f7c
    "\n",
    "mypt = Point()\n",
    "mypt.x = 10.0\n",
    "mypt.y = 20.0\n",
    "\n",
    "slide_point_right(mypt, 1.0)\n",
    "print mypt.x  # should be 11.0"
   ]
  },
  {
   "cell_type": "markdown",
   "metadata": {},
   "source": [
    "Write a function called `point_slid_right_by` that takes a point and a number (the *increment*).\n",
    "It should return a *new* point:\n",
    "\n",
    "* whose `x` attribute has the value of the input point's `x`, incremented by the number.\n",
    "* whose `y` attribute has the same value as the input point's `y` attribute"
   ]
  },
  {
   "cell_type": "code",
<<<<<<< HEAD
   "execution_count": 10,
   "metadata": {
    "collapsed": false
   },
   "outputs": [
    {
     "name": "stdout",
     "output_type": "stream",
     "text": [
      "10.0\n",
      "11.0\n",
      "20.0\n"
     ]
    }
   ],
   "source": [
    "def point_slid_right_by(pt, dx):\n",
    "    point_slid = Point()\n",
    "    point_slid.x = pt.x + dx\n",
    "    point_slid.y = pt.y\n",
    "    return point_slid\n",
    "    \n",
=======
   "execution_count": null,
   "metadata": {
    "collapsed": true
   },
   "outputs": [],
   "source": [
    "def point_slid_right_by(pt, dx):\n",
    "    pass  # replace this line by your code\n",
>>>>>>> 19b0a926debc58bda12c4f51d6b1d922ac6c1f7c
    "\n",
    "pt1 = Point()\n",
    "pt1.x = 10.0\n",
    "pt1.y = 20.0\n",
    "\n",
    "pt2 = point_slid_right_by(pt1, 1.0)\n",
    "print pt1.x  # should be 10.0\n",
    "print pt2.x  # should be 11.0\n",
    "print pt2.y  # should be 20.0"
   ]
  },
  {
   "cell_type": "markdown",
   "metadata": {},
   "source": [
    "## Discussion Question 1\n",
    "A `Point` is a pair of numbers. A list, and a tuple, can also be used to represent a pair of numbers.\n",
    "What are the advantage of using a Point:\n",
    "    \n",
    "    pt1 = Point()\n",
    "    pt1.x = 10.0\n",
    "    pt2.x = 20.0\n",
    "    …\n",
    "    print distance_between_points(pt1, pt2)\n",
    "\n",
    "and a list:\n",
    "\n",
    "    pt1 = [10.0, 20.0]\n",
    "    pt2 = [100.0, 200.0]\n",
    "    print distance_between_points(pt1, pt2)\n",
    "\n",
    "or tuple:\n",
    "\n",
    "    pt1 = (10.0, 20.0)\n",
    "    pt2 = (100.0, 200.0)\n",
    "    print distance_between_points(pt1, pt2)"
   ]
  },
  {
   "cell_type": "markdown",
   "metadata": {},
<<<<<<< HEAD
   "source": [
    "Using Point makes it easier to conceptualize x and y, as they are clearly separated and individually manageable, wheareas a list requires some manipulation to individually modify x and y. Still, a list might is easier to setup, does not require the creation of a whole new class, and is still mutable. It might be advantageous to use a tuple if there is no intent to modify the points, as a tuple is immutable, and only intent to perform analysis or calculations with the points. "
   ]
=======
   "source": []
>>>>>>> 19b0a926debc58bda12c4f51d6b1d922ac6c1f7c
  },
  {
   "cell_type": "markdown",
   "metadata": {},
   "source": [
    "## Discussion Question 2\n",
    "Why do you think Allen named the function `distance_between_points` instead of `distance`?"
   ]
  },
  {
   "cell_type": "markdown",
   "metadata": {},
<<<<<<< HEAD
   "source": [
    "Distance between points makes it clearer what the distance is between. Distance is less specific in regards to what the distance is."
   ]
=======
   "source": []
>>>>>>> 19b0a926debc58bda12c4f51d6b1d922ac6c1f7c
  },
  {
   "cell_type": "markdown",
   "metadata": {},
   "source": [
    "# Quick poll\n",
    "About how long did you spend working on this Reading Journal?"
   ]
  },
  {
   "cell_type": "code",
<<<<<<< HEAD
   "execution_count": 12,
   "metadata": {
    "collapsed": false
   },
   "outputs": [
    {
     "name": "stdout",
     "output_type": "stream",
     "text": [
      "45 minutes\n"
     ]
    }
   ],
   "source": [
    "print \"45 minutes\""
   ]
=======
   "execution_count": null,
   "metadata": {
    "collapsed": true
   },
   "outputs": [],
   "source": []
>>>>>>> 19b0a926debc58bda12c4f51d6b1d922ac6c1f7c
  },
  {
   "cell_type": "markdown",
   "metadata": {},
   "source": [
    " "
   ]
  }
 ],
 "metadata": {
  "anaconda-cloud": {},
  "kernelspec": {
<<<<<<< HEAD
   "display_name": "Python 2",
   "language": "python",
   "name": "python2"
=======
   "display_name": "Python [py27]",
   "language": "python",
   "name": "Python [py27]"
>>>>>>> 19b0a926debc58bda12c4f51d6b1d922ac6c1f7c
  },
  "language_info": {
   "codemirror_mode": {
    "name": "ipython",
    "version": 2
   },
   "file_extension": ".py",
   "mimetype": "text/x-python",
   "name": "python",
   "nbconvert_exporter": "python",
   "pygments_lexer": "ipython2",
<<<<<<< HEAD
   "version": "2.7.6"
=======
   "version": "2.7.12"
>>>>>>> 19b0a926debc58bda12c4f51d6b1d922ac6c1f7c
  }
 },
 "nbformat": 4,
 "nbformat_minor": 0
}

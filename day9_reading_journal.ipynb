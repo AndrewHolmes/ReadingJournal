{
 "cells": [
  {
   "cell_type": "markdown",
   "metadata": {},
   "source": [
    "# Day 9 Reading Journal\n",
    "\n",
    "This journal includes review questions relating to Think Python chapters 2, 3, 6, and 8.\n",
    "\n",
    "**Due: Monday, October 3 at 12 noon**\n"
   ]
  },
  {
   "cell_type": "markdown",
   "metadata": {},
   "source": [
    "## Indexing and Slices"
   ]
  },
  {
   "cell_type": "markdown",
   "metadata": {
    "collapsed": true
   },
   "source": [
    "Modify the following functions so that they behave as documented."
   ]
  },
  {
   "cell_type": "code",
<<<<<<< HEAD
   "execution_count": 1,
   "metadata": {
    "collapsed": false
   },
   "outputs": [
    {
     "name": "stdout",
     "output_type": "stream",
     "text": [
      "p\n"
     ]
    }
   ],
=======
   "execution_count": null,
   "metadata": {
    "collapsed": true
   },
   "outputs": [],
>>>>>>> 19b0a926debc58bda12c4f51d6b1d922ac6c1f7c
   "source": [
    "def first_letter(s):\n",
    "    \"\"\"Print the first letter of a string.\n",
    "    \n",
    "    >>> print_first_letter(\"hello\")\n",
    "    h\n",
    "    >>> print_first_letter(\"greetings\")\n",
    "    g\n",
    "    \"\"\"\n",
<<<<<<< HEAD
    "    print s[0]\n",
    "    \n",
    "first_letter(\"poop\")"
=======
    "    print s[1]"
>>>>>>> 19b0a926debc58bda12c4f51d6b1d922ac6c1f7c
   ]
  },
  {
   "cell_type": "code",
<<<<<<< HEAD
   "execution_count": 3,
   "metadata": {
    "collapsed": false
   },
   "outputs": [
    {
     "name": "stdout",
     "output_type": "stream",
     "text": [
      "jam\n"
     ]
    }
   ],
=======
   "execution_count": 15,
   "metadata": {
    "collapsed": true
   },
   "outputs": [],
>>>>>>> 19b0a926debc58bda12c4f51d6b1d922ac6c1f7c
   "source": [
    "def first_three_letters(s):\n",
    "    \"\"\"Print the first three letters of a string.\n",
    "    \n",
    "    >>> print_first_three_letters(\"bonjour\")\n",
    "    bon\n",
    "    >>> print_first_three_letters(\"ciao\")\n",
    "    cia\n",
    "    \"\"\"\n",
<<<<<<< HEAD
    "    print s[0:3]\n",
    "\n",
    "first_three_letters(\"jambalaya\")"
=======
    "    print s[1:3]"
>>>>>>> 19b0a926debc58bda12c4f51d6b1d922ac6c1f7c
   ]
  },
  {
   "cell_type": "markdown",
   "metadata": {},
   "source": [
    "## Fruitful Functions\n",
    "In your fix to the following program, `triple` should still call `twice`, and should still use its result.\n",
    "\n",
    "You may need to change either or both of `twice` and `triple`."
   ]
  },
  {
   "cell_type": "code",
<<<<<<< HEAD
   "execution_count": 5,
=======
   "execution_count": 14,
>>>>>>> 19b0a926debc58bda12c4f51d6b1d922ac6c1f7c
   "metadata": {
    "collapsed": false
   },
   "outputs": [],
   "source": [
    "def double(n):\n",
    "    \"\"\"Returns twice the value of its argument.\n",
    "    \n",
    "    >>> six = double(3)\n",
    "    >>> print 'Twice 3 is', six\n",
    "    Twice 3 is 6\n",
    "    >>> print '2 x 10 =', double(10)\n",
    "    '2 x 10 =', 20\n",
    "    \"\"\"\n",
<<<<<<< HEAD
    "    return n * 2"
=======
    "    print n * 2"
>>>>>>> 19b0a926debc58bda12c4f51d6b1d922ac6c1f7c
   ]
  },
  {
   "cell_type": "code",
<<<<<<< HEAD
   "execution_count": 6,
   "metadata": {
    "collapsed": false
   },
   "outputs": [
    {
     "data": {
      "text/plain": [
       "10"
      ]
     },
     "execution_count": 6,
     "metadata": {},
     "output_type": "execute_result"
    }
   ],
   "source": [
    "double(5)"
   ]
  },
  {
   "cell_type": "code",
   "execution_count": 7,
=======
   "execution_count": 4,
>>>>>>> 19b0a926debc58bda12c4f51d6b1d922ac6c1f7c
   "metadata": {
    "collapsed": true
   },
   "outputs": [],
   "source": [
    "def twice(n):\n",
<<<<<<< HEAD
    "    return n * 2\n",
=======
    "    print n * 2\n",
>>>>>>> 19b0a926debc58bda12c4f51d6b1d922ac6c1f7c
    "\n",
    "def triple(n):\n",
    "    \"\"\"Returns thrice the value of its argument.\n",
    "    \"\"\"\n",
    "    return twice(n) + n"
   ]
  },
  {
<<<<<<< HEAD
   "cell_type": "code",
   "execution_count": 8,
   "metadata": {
    "collapsed": false
   },
   "outputs": [
    {
     "data": {
      "text/plain": [
       "12"
      ]
     },
     "execution_count": 8,
     "metadata": {},
     "output_type": "execute_result"
    }
   ],
   "source": [
    "triple(4)"
   ]
  },
  {
=======
>>>>>>> 19b0a926debc58bda12c4f51d6b1d922ac6c1f7c
   "cell_type": "markdown",
   "metadata": {},
   "source": [
    "# Quick poll\n",
    "About how long did you spend working on this Reading Journal?"
   ]
  },
  {
   "cell_type": "code",
<<<<<<< HEAD
   "execution_count": 9,
   "metadata": {
    "collapsed": false
   },
   "outputs": [
    {
     "name": "stdout",
     "output_type": "stream",
     "text": [
      "10 minutes\n"
     ]
    }
   ],
   "source": [
    "print \"10 minutes\""
   ]
=======
   "execution_count": null,
   "metadata": {
    "collapsed": true
   },
   "outputs": [],
   "source": []
>>>>>>> 19b0a926debc58bda12c4f51d6b1d922ac6c1f7c
  },
  {
   "cell_type": "markdown",
   "metadata": {},
   "source": [
    " "
   ]
  }
 ],
 "metadata": {
  "anaconda-cloud": {},
  "kernelspec": {
<<<<<<< HEAD
   "display_name": "Python 2",
   "language": "python",
   "name": "python2"
=======
   "display_name": "Python [py27]",
   "language": "python",
   "name": "Python [py27]"
>>>>>>> 19b0a926debc58bda12c4f51d6b1d922ac6c1f7c
  },
  "language_info": {
   "codemirror_mode": {
    "name": "ipython",
    "version": 2
   },
   "file_extension": ".py",
   "mimetype": "text/x-python",
   "name": "python",
   "nbconvert_exporter": "python",
   "pygments_lexer": "ipython2",
<<<<<<< HEAD
   "version": "2.7.6"
=======
   "version": "2.7.12"
>>>>>>> 19b0a926debc58bda12c4f51d6b1d922ac6c1f7c
  }
 },
 "nbformat": 4,
 "nbformat_minor": 0
}

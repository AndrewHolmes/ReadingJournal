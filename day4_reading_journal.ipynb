{
 "cells": [
  {
   "cell_type": "markdown",
   "metadata": {},
   "source": [
    "# Day 4 Reading Journal\n",
    "\n",
    "This journal includes several required exercises, but it is meant to encourage active reading more generally.  You should use the journal to take detailed notes, catalog questions, and explore the content from Think Python deeply.\n",
    "\n",
    "Reading: Think Python Chapter 10\n",
    "\n",
    "**Due: Friday, September 16 at 12 noon**\n",
    "\n"
   ]
  },
  {
   "cell_type": "markdown",
   "metadata": {},
   "source": [
    "## [Chapter 10](http://www.greenteapress.com/thinkpython/html/thinkpython011.html)\n",
    "\n",
    "You may want to review [state diagrams in Chapter 2](http://www.greenteapress.com/thinkpython/html/thinkpython003.html#toc13). [Python Tutor](http://pythontutor.com/) is also helpful for visualizing the state of your program.\n",
    "\n"
   ]
  },
  {
   "cell_type": "markdown",
   "metadata": {},
   "source": [
    "### Exercise 4  \n",
    "Write a function called `middle` that takes a list and returns a new list that contains all but the first and last elements. So `middle([1,2,3,4])` should return `[2,3]`."
   ]
  },
  {
   "cell_type": "code",
   "execution_count": 6,
   "metadata": {
    "collapsed": false
   },
   "outputs": [
    {
     "data": {
      "text/plain": [
       "['You can stay', 'You can stay too']"
      ]
     },
     "execution_count": 6,
     "metadata": {},
     "output_type": "execute_result"
    }
   ],
   "source": [
    "def middle(lst):\n",
    "    new_list = []\n",
    "    i = 1\n",
    "    while i < len(lst) - 1:\n",
    "        new_list.append(i-1)\n",
    "        new_list[i-1] = lst[i]\n",
    "        i = i+1\n",
    "    return new_list\n",
    "\n",
    "middle(['Go Away', 'You can stay', 'You can stay too', 'Go Away'])"
   ]
  },
  {
   "cell_type": "markdown",
   "metadata": {},
   "source": [
    "### Exercise 5  \n",
    "Write a function called `chop` that takes a list, modifies it by removing the first and last elements, and returns `None`.\n",
    "\n",
    "What is the difference between `middle` and `chop`? Sketch out the program state or take a look at each in Python Tutor."
   ]
  },
  {
   "cell_type": "code",
   "execution_count": 62,
   "metadata": {
    "collapsed": false
   },
   "outputs": [
    {
     "name": "stdout",
     "output_type": "stream",
     "text": [
      "['You can stay', 'You can stay too']\n"
     ]
    }
   ],
   "source": [
    "def chop(lst):\n",
    "    del lst[0]\n",
    "    del lst[len(lst)-1]\n",
    "    print lst\n",
    "    \n",
    "chop(['Go Away', 'You can stay', 'You can stay too', 'Go Away'])\n",
    "\n",
    "#One function is a fruitful function and the other is not. chop alters the list but cannot be called upon to do anything in other functions, while middle can."
   ]
  },
  {
   "cell_type": "markdown",
   "metadata": {},
   "source": [
    "### Exercise 7  \n",
    "Two words are anagrams if you can rearrange the letters from one to spell the other. Write a function called `is_anagram` that takes two strings and returns `True` if they are anagrams."
   ]
  },
  {
   "cell_type": "code",
   "execution_count": 57,
   "metadata": {
    "collapsed": false,
    "scrolled": true
   },
   "outputs": [
    {
     "data": {
      "text/plain": [
       "True"
      ]
     },
     "execution_count": 57,
     "metadata": {},
     "output_type": "execute_result"
    }
   ],
   "source": [
    "def is_anagram(str1, str2):\n",
    "    result = True\n",
    "    str1 = str1.lower()\n",
    "    str2 = str2.lower()\n",
    "    str1 = str1.replace(' ', '')\n",
    "    str2 = str2.replace(' ', '')\n",
    "    if len(str1) == len(str2):\n",
    "        i = 0\n",
    "        j = 0\n",
    "        while i < len(str1):\n",
    "            while j < len(str2):\n",
    "                if str1[i] == str2[j]:\n",
    "                    result = True\n",
    "                    j = len(str2)\n",
    "                if j == len(str2)-1:\n",
    "                    result = False\n",
    "                    return result\n",
    "                    break\n",
    "                j = j + 1\n",
    "            j = 0\n",
    "            i = i + 1\n",
    "    else:\n",
    "        result = False\n",
    "    return result\n",
    "\n",
    "is_anagram('Debit Card', 'Bad Credit')\n",
    "\n",
    "#I think there is still an issue with double counting characters, but I spent a lot of time and have yet to think of a good solution to that issue.\n",
    "#One thought I had was turning the strings into lists and then using the .remove function to ignore characters that have already been matched up, but then that creates issues with the length of each list."
   ]
  },
  {
   "cell_type": "code",
   "execution_count": 58,
   "metadata": {
    "collapsed": false
   },
   "outputs": [
    {
     "data": {
      "text/plain": [
       "True"
      ]
     },
     "execution_count": 58,
     "metadata": {},
     "output_type": "execute_result"
    }
   ],
   "source": [
    "is_anagram('Debit Card', 'Bad Credit')"
   ]
  },
  {
   "cell_type": "code",
   "execution_count": 61,
   "metadata": {
    "collapsed": false
   },
   "outputs": [
    {
     "data": {
      "text/plain": [
       "True"
      ]
     },
     "execution_count": 61,
     "metadata": {},
     "output_type": "execute_result"
    }
   ],
   "source": [
    "is_anagram('Dormitory', 'dirty room')"
   ]
  },
  {
   "cell_type": "code",
   "execution_count": 60,
   "metadata": {
    "collapsed": false
   },
   "outputs": [
    {
     "data": {
      "text/plain": [
       "False"
      ]
     },
     "execution_count": 60,
     "metadata": {},
     "output_type": "execute_result"
    }
   ],
   "source": [
    "is_anagram('cat', 'dog')\n"
   ]
  },
  {
   "cell_type": "markdown",
   "metadata": {},
   "source": [
    "### Exercise 8  \n",
    "The (so-called) Birthday Paradox:\n",
    "1. Write a function called `has_duplicates` that takes a list and returns `True` if there is any element that appears more than once. It should not modify the original list.\n",
    "2. If there are 23 students in your class, what are the chances that two of you have the same birthday? You can estimate this probability by generating random samples of 23 birthdays and checking for matches. Hint: you can generate random birthdays with the randint function in the [random module](https://docs.python.org/2/library/random.html).\n",
    "\n",
    "You can read about this problem at http://en.wikipedia.org/wiki/Birthday_paradox, and you can download Allen's solution from http://thinkpython.com/code/birthday.py."
   ]
  },
  {
   "cell_type": "code",
   "execution_count": 2,
   "metadata": {
    "collapsed": false
   },
   "outputs": [],
   "source": [
    "def has_duplicates(lst):\n",
    "    result = False\n",
    "    i = 0\n",
    "    j = 1\n",
    "    while i < len(lst):\n",
    "        while j < len(lst):\n",
    "            if lst[i] == lst[j] and j != i:\n",
    "                result = True\n",
    "                break\n",
    "            j = j + 1\n",
    "        j = 1\n",
    "        i = i + 1\n",
    "    return result"
   ]
  },
  {
   "cell_type": "code",
   "execution_count": 3,
   "metadata": {
    "collapsed": false
   },
   "outputs": [
    {
     "data": {
      "text/plain": [
       "True"
      ]
     },
     "execution_count": 3,
     "metadata": {},
     "output_type": "execute_result"
    }
   ],
   "source": [
    "has_duplicates([110,\n",
    " 177,\n",
    " 2,\n",
    " 264,\n",
    " 64,\n",
    " 207,\n",
    " 231,\n",
    " 198,\n",
    " 153,\n",
    " 324,\n",
    " 291,\n",
    " 147,\n",
    " 29,\n",
    " 357,\n",
    " 351,\n",
    " 123,\n",
    " 364,\n",
    " 322,\n",
    " 191,\n",
    " 317,\n",
    " 82,\n",
    " 235,\n",
    " 324])"
   ]
  },
  {
   "cell_type": "code",
   "execution_count": 4,
   "metadata": {
    "collapsed": false
   },
   "outputs": [
    {
     "data": {
      "text/plain": [
       "False"
      ]
     },
     "execution_count": 4,
     "metadata": {},
     "output_type": "execute_result"
    }
   ],
   "source": [
    "has_duplicates([110,\n",
    " 177,\n",
    " 2,\n",
    " 264,\n",
    " 64,\n",
    " 207,\n",
    " 231,\n",
    " 198,\n",
    " 153,\n",
    " 12,\n",
    " 291,\n",
    " 147,\n",
    " 29,\n",
    " 357,\n",
    " 351,\n",
    " 123,\n",
    " 364,\n",
    " 322,\n",
    " 191,\n",
    " 317,\n",
    " 82,\n",
    " 235,\n",
    " 324])"
   ]
  },
  {
   "cell_type": "code",
   "execution_count": 5,
   "metadata": {
    "collapsed": false
   },
   "outputs": [
    {
     "data": {
      "text/plain": [
       "[65,\n",
       " 39,\n",
       " 253,\n",
       " 333,\n",
       " 271,\n",
       " 189,\n",
       " 275,\n",
       " 106,\n",
       " 212,\n",
       " 315,\n",
       " 89,\n",
       " 128,\n",
       " 101,\n",
       " 222,\n",
       " 330,\n",
       " 199,\n",
       " 245,\n",
       " 49,\n",
       " 45,\n",
       " 189,\n",
       " 18,\n",
       " 284,\n",
       " 55]"
      ]
     },
     "execution_count": 5,
     "metadata": {},
     "output_type": "execute_result"
    }
   ],
   "source": [
    "def birthday_generator(n):\n",
    "    import random\n",
    "    birthdays = []\n",
    "    i = 0\n",
    "    while i < n:\n",
    "        birthdays.append(random.randint(1, 365))\n",
    "        i = i + 1\n",
    "    return birthdays\n",
    "\n",
    "birthday_generator(23)"
   ]
  },
  {
   "cell_type": "code",
   "execution_count": 9,
   "metadata": {
    "collapsed": false
   },
   "outputs": [
    {
     "name": "stdout",
     "output_type": "stream",
     "text": [
      "2478.0\n",
      "The probability of having a shared birthday are roughly 0.4956\n",
      "The odds of having a shared birthday are roughly 2478:2522\n"
     ]
    }
   ],
   "source": [
    "def birthday_duplicate_odds(n):\n",
    "    count = 0.0\n",
    "    i = 0\n",
    "    while i <= 5000:\n",
    "        \n",
    "        if has_duplicates(birthday_generator(n)):\n",
    "            count = count + 1\n",
    "        i = i + 1\n",
    "    odd = 5000 - count\n",
    "    print count\n",
    "    print \"The probability of having a shared birthday are roughly\", count / (5000)\n",
    "    print \"The odds of having a shared birthday are roughly \" + str(int(count)) + \":\" + str(int(odd))\n",
    "\n",
    "birthday_duplicate_odds(23)"
   ]
  },
  {
   "cell_type": "markdown",
   "metadata": {},
   "source": [
    "### Challenge: Exercise 11 (optional)\n",
    "\n",
    "You should read [Chapter 9.1](http://www.greenteapress.com/thinkpython/html/thinkpython010.html) and do Exercise 1 first.\n",
    "\n",
    "To check whether a word is in the word list, you could use the `in` operator, but it would be relatively slow because it searches through the words in order (try it).\n",
    "\n",
    "Because the words are in alphabetical order, we can speed things up with a bisection search (also known as binary search), which is similar to what you do when you look a word up in the dictionary. You start in the middle and check to see whether the word you are looking for comes before the word in the middle of the list. If so, then you search the first half of the list the same way. Otherwise you search the second half.\n",
    "\n",
    "Either way, you cut the remaining search space in half. If the word list has 113,809 words, it will take about 17 steps to find the word or conclude that it’s not there.\n",
    "\n",
    "Write a function called `bisect` that takes a sorted list and a target value and returns the index of the value in the list, if it’s there, or `None` if it’s not.\n",
    "\n",
    "Or you could read the documentation of the `bisect` module and use that! Solution: http://thinkpython.com/code/inlist.py."
   ]
  },
  {
   "cell_type": "code",
   "execution_count": null,
   "metadata": {
    "collapsed": true
   },
   "outputs": [],
   "source": []
  },
  {
   "cell_type": "markdown",
   "metadata": {},
   "source": [
    "# Quick poll\n",
    "About how long did you spend working on this Reading Journal?"
   ]
  },
  {
   "cell_type": "code",
   "execution_count": null,
   "metadata": {
    "collapsed": true
   },
   "outputs": [],
   "source": [
    "3"
   ]
  },
  {
   "cell_type": "markdown",
   "metadata": {},
   "source": [
    "## Reading Journal feedback\n",
    "\n",
    "Have any comments on this Reading Journal? Feel free to leave them below and we'll read them when you submit your journal entry. This could include suggestions to improve the exercises, topics you'd like to see covered in class next time, or other feedback.\n",
    "\n",
    "If you have Python questions or run into problems while completing the reading, you should post them to Piazza instead so you can get a quick response before your journal is submitted."
   ]
  },
  {
   "cell_type": "markdown",
   "metadata": {},
   "source": [
    " "
   ]
  }
 ],
 "metadata": {
  "kernelspec": {
   "display_name": "Python 2",
   "language": "python",
   "name": "python2"
  },
  "language_info": {
   "codemirror_mode": {
    "name": "ipython",
    "version": 2
   },
   "file_extension": ".py",
   "mimetype": "text/x-python",
   "name": "python",
   "nbconvert_exporter": "python",
   "pygments_lexer": "ipython2",
   "version": "2.7.6"
  }
 },
 "nbformat": 4,
 "nbformat_minor": 0
}
